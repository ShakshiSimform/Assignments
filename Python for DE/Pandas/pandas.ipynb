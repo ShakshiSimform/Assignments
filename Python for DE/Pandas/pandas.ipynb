{
  "cells": [
    {
      "cell_type": "markdown",
      "id": "499fe3d6-115f-4e4a-a79b-6bbad34ce27d",
      "metadata": {},
      "source": [
        "# TASK1: Data Loading "
      ]
    },
    {
      "cell_type": "code",
      "execution_count": 20,
      "id": "b8ab83ce-c21f-4f1d-96bf-2fcbc7aa2570",
      "metadata": {
        "trusted": true
      },
      "outputs": [],
      "source": [
        "#1\n",
        "#Load the employees.csv file into a Pandas DataFrame. \n",
        "import pandas as pd\n",
        "df= pd.read_csv('employees.csv')"
      ]
    },
    {
      "cell_type": "code",
      "execution_count": 21,
      "id": "e7f9565e-9938-4c16-9233-d0b01c5996ab",
      "metadata": {
        "trusted": true
      },
      "outputs": [
        {
          "data": {
            "text/html": [
              "<div>\n",
              "<style scoped>\n",
              "    .dataframe tbody tr th:only-of-type {\n",
              "        vertical-align: middle;\n",
              "    }\n",
              "\n",
              "    .dataframe tbody tr th {\n",
              "        vertical-align: top;\n",
              "    }\n",
              "\n",
              "    .dataframe thead th {\n",
              "        text-align: right;\n",
              "    }\n",
              "</style>\n",
              "<table border=\"1\" class=\"dataframe\">\n",
              "  <thead>\n",
              "    <tr style=\"text-align: right;\">\n",
              "      <th></th>\n",
              "      <th>Employee_ID</th>\n",
              "      <th>Name</th>\n",
              "      <th>Age</th>\n",
              "      <th>Department</th>\n",
              "      <th>Salary</th>\n",
              "      <th>Joining_Date</th>\n",
              "      <th>Resigned</th>\n",
              "    </tr>\n",
              "  </thead>\n",
              "  <tbody>\n",
              "    <tr>\n",
              "      <th>0</th>\n",
              "      <td>1001</td>\n",
              "      <td>Steven Dunn</td>\n",
              "      <td>30.0</td>\n",
              "      <td>IT</td>\n",
              "      <td>46846.0</td>\n",
              "      <td>09/06/2024</td>\n",
              "      <td>False</td>\n",
              "    </tr>\n",
              "    <tr>\n",
              "      <th>1</th>\n",
              "      <td>1002</td>\n",
              "      <td>Jennifer Romero</td>\n",
              "      <td>54.0</td>\n",
              "      <td>IT</td>\n",
              "      <td>43585.0</td>\n",
              "      <td>07/02/2018</td>\n",
              "      <td>False</td>\n",
              "    </tr>\n",
              "    <tr>\n",
              "      <th>2</th>\n",
              "      <td>1003</td>\n",
              "      <td>Dana Haney</td>\n",
              "      <td>59.0</td>\n",
              "      <td>Finance</td>\n",
              "      <td>NaN</td>\n",
              "      <td>11/01/2019</td>\n",
              "      <td>False</td>\n",
              "    </tr>\n",
              "    <tr>\n",
              "      <th>3</th>\n",
              "      <td>1004</td>\n",
              "      <td>Louis Powers</td>\n",
              "      <td>60.0</td>\n",
              "      <td>Finance</td>\n",
              "      <td>58094.0</td>\n",
              "      <td>26/09/2019</td>\n",
              "      <td>False</td>\n",
              "    </tr>\n",
              "    <tr>\n",
              "      <th>4</th>\n",
              "      <td>1005</td>\n",
              "      <td>Jennifer Gilmore</td>\n",
              "      <td>54.0</td>\n",
              "      <td>Marketing</td>\n",
              "      <td>80848.0</td>\n",
              "      <td>09/02/2020</td>\n",
              "      <td>False</td>\n",
              "    </tr>\n",
              "    <tr>\n",
              "      <th>5</th>\n",
              "      <td>1006</td>\n",
              "      <td>Joshua Shelton</td>\n",
              "      <td>31.0</td>\n",
              "      <td>HR</td>\n",
              "      <td>69143.0</td>\n",
              "      <td>24/08/2021</td>\n",
              "      <td>True</td>\n",
              "    </tr>\n",
              "    <tr>\n",
              "      <th>6</th>\n",
              "      <td>1007</td>\n",
              "      <td>Thomas Lopez</td>\n",
              "      <td>39.0</td>\n",
              "      <td>HR</td>\n",
              "      <td>66678.0</td>\n",
              "      <td>24/05/2015</td>\n",
              "      <td>False</td>\n",
              "    </tr>\n",
              "    <tr>\n",
              "      <th>7</th>\n",
              "      <td>1008</td>\n",
              "      <td>Derrick Simmons</td>\n",
              "      <td>39.0</td>\n",
              "      <td>Finance</td>\n",
              "      <td>67837.0</td>\n",
              "      <td>23/06/2023</td>\n",
              "      <td>True</td>\n",
              "    </tr>\n",
              "    <tr>\n",
              "      <th>8</th>\n",
              "      <td>1009</td>\n",
              "      <td>Lori Short</td>\n",
              "      <td>56.0</td>\n",
              "      <td>IT</td>\n",
              "      <td>58575.0</td>\n",
              "      <td>28/02/2015</td>\n",
              "      <td>True</td>\n",
              "    </tr>\n",
              "    <tr>\n",
              "      <th>9</th>\n",
              "      <td>1010</td>\n",
              "      <td>Michael Foley</td>\n",
              "      <td>29.0</td>\n",
              "      <td>IT</td>\n",
              "      <td>54935.0</td>\n",
              "      <td>03/06/2020</td>\n",
              "      <td>True</td>\n",
              "    </tr>\n",
              "  </tbody>\n",
              "</table>\n",
              "</div>"
            ],
            "text/plain": [
              "   Employee_ID              Name   Age Department   Salary Joining_Date  \\\n",
              "0         1001       Steven Dunn  30.0         IT  46846.0   09/06/2024   \n",
              "1         1002   Jennifer Romero  54.0         IT  43585.0   07/02/2018   \n",
              "2         1003        Dana Haney  59.0    Finance      NaN   11/01/2019   \n",
              "3         1004      Louis Powers  60.0    Finance  58094.0   26/09/2019   \n",
              "4         1005  Jennifer Gilmore  54.0  Marketing  80848.0   09/02/2020   \n",
              "5         1006    Joshua Shelton  31.0         HR  69143.0   24/08/2021   \n",
              "6         1007      Thomas Lopez  39.0         HR  66678.0   24/05/2015   \n",
              "7         1008   Derrick Simmons  39.0    Finance  67837.0   23/06/2023   \n",
              "8         1009        Lori Short  56.0         IT  58575.0   28/02/2015   \n",
              "9         1010     Michael Foley  29.0         IT  54935.0   03/06/2020   \n",
              "\n",
              "   Resigned  \n",
              "0     False  \n",
              "1     False  \n",
              "2     False  \n",
              "3     False  \n",
              "4     False  \n",
              "5      True  \n",
              "6     False  \n",
              "7      True  \n",
              "8      True  \n",
              "9      True  "
            ]
          },
          "execution_count": 21,
          "metadata": {},
          "output_type": "execute_result"
        }
      ],
      "source": [
        "#Display the first 10 rows of the dataset. \n",
        "df.head(10)"
      ]
    },
    {
      "cell_type": "markdown",
      "id": "91fa544e-144f-4019-bdbe-bca6fa7be71e",
      "metadata": {},
      "source": [
        "# TASK2: Data Cleaning "
      ]
    },
    {
      "cell_type": "code",
      "execution_count": 22,
      "id": "f4f03571-a7cb-4962-afc4-dfe7da7916fd",
      "metadata": {
        "trusted": true
      },
      "outputs": [
        {
          "data": {
            "text/html": [
              "<div>\n",
              "<style scoped>\n",
              "    .dataframe tbody tr th:only-of-type {\n",
              "        vertical-align: middle;\n",
              "    }\n",
              "\n",
              "    .dataframe tbody tr th {\n",
              "        vertical-align: top;\n",
              "    }\n",
              "\n",
              "    .dataframe thead th {\n",
              "        text-align: right;\n",
              "    }\n",
              "</style>\n",
              "<table border=\"1\" class=\"dataframe\">\n",
              "  <thead>\n",
              "    <tr style=\"text-align: right;\">\n",
              "      <th></th>\n",
              "      <th>Employee_ID</th>\n",
              "      <th>Name</th>\n",
              "      <th>Age</th>\n",
              "      <th>Department</th>\n",
              "      <th>Salary</th>\n",
              "      <th>Joining_Date</th>\n",
              "      <th>Resigned</th>\n",
              "    </tr>\n",
              "  </thead>\n",
              "  <tbody>\n",
              "    <tr>\n",
              "      <th>0</th>\n",
              "      <td>False</td>\n",
              "      <td>False</td>\n",
              "      <td>False</td>\n",
              "      <td>False</td>\n",
              "      <td>False</td>\n",
              "      <td>False</td>\n",
              "      <td>False</td>\n",
              "    </tr>\n",
              "    <tr>\n",
              "      <th>1</th>\n",
              "      <td>False</td>\n",
              "      <td>False</td>\n",
              "      <td>False</td>\n",
              "      <td>False</td>\n",
              "      <td>False</td>\n",
              "      <td>False</td>\n",
              "      <td>False</td>\n",
              "    </tr>\n",
              "    <tr>\n",
              "      <th>2</th>\n",
              "      <td>False</td>\n",
              "      <td>False</td>\n",
              "      <td>False</td>\n",
              "      <td>False</td>\n",
              "      <td>True</td>\n",
              "      <td>False</td>\n",
              "      <td>False</td>\n",
              "    </tr>\n",
              "    <tr>\n",
              "      <th>3</th>\n",
              "      <td>False</td>\n",
              "      <td>False</td>\n",
              "      <td>False</td>\n",
              "      <td>False</td>\n",
              "      <td>False</td>\n",
              "      <td>False</td>\n",
              "      <td>False</td>\n",
              "    </tr>\n",
              "    <tr>\n",
              "      <th>4</th>\n",
              "      <td>False</td>\n",
              "      <td>False</td>\n",
              "      <td>False</td>\n",
              "      <td>False</td>\n",
              "      <td>False</td>\n",
              "      <td>False</td>\n",
              "      <td>False</td>\n",
              "    </tr>\n",
              "    <tr>\n",
              "      <th>...</th>\n",
              "      <td>...</td>\n",
              "      <td>...</td>\n",
              "      <td>...</td>\n",
              "      <td>...</td>\n",
              "      <td>...</td>\n",
              "      <td>...</td>\n",
              "      <td>...</td>\n",
              "    </tr>\n",
              "    <tr>\n",
              "      <th>95</th>\n",
              "      <td>False</td>\n",
              "      <td>False</td>\n",
              "      <td>False</td>\n",
              "      <td>False</td>\n",
              "      <td>False</td>\n",
              "      <td>False</td>\n",
              "      <td>False</td>\n",
              "    </tr>\n",
              "    <tr>\n",
              "      <th>96</th>\n",
              "      <td>False</td>\n",
              "      <td>False</td>\n",
              "      <td>False</td>\n",
              "      <td>False</td>\n",
              "      <td>False</td>\n",
              "      <td>False</td>\n",
              "      <td>False</td>\n",
              "    </tr>\n",
              "    <tr>\n",
              "      <th>97</th>\n",
              "      <td>False</td>\n",
              "      <td>False</td>\n",
              "      <td>False</td>\n",
              "      <td>False</td>\n",
              "      <td>False</td>\n",
              "      <td>False</td>\n",
              "      <td>False</td>\n",
              "    </tr>\n",
              "    <tr>\n",
              "      <th>98</th>\n",
              "      <td>False</td>\n",
              "      <td>False</td>\n",
              "      <td>False</td>\n",
              "      <td>False</td>\n",
              "      <td>False</td>\n",
              "      <td>False</td>\n",
              "      <td>False</td>\n",
              "    </tr>\n",
              "    <tr>\n",
              "      <th>99</th>\n",
              "      <td>False</td>\n",
              "      <td>False</td>\n",
              "      <td>True</td>\n",
              "      <td>False</td>\n",
              "      <td>False</td>\n",
              "      <td>False</td>\n",
              "      <td>False</td>\n",
              "    </tr>\n",
              "  </tbody>\n",
              "</table>\n",
              "<p>100 rows × 7 columns</p>\n",
              "</div>"
            ],
            "text/plain": [
              "    Employee_ID   Name    Age  Department  Salary  Joining_Date  Resigned\n",
              "0         False  False  False       False   False         False     False\n",
              "1         False  False  False       False   False         False     False\n",
              "2         False  False  False       False    True         False     False\n",
              "3         False  False  False       False   False         False     False\n",
              "4         False  False  False       False   False         False     False\n",
              "..          ...    ...    ...         ...     ...           ...       ...\n",
              "95        False  False  False       False   False         False     False\n",
              "96        False  False  False       False   False         False     False\n",
              "97        False  False  False       False   False         False     False\n",
              "98        False  False  False       False   False         False     False\n",
              "99        False  False   True       False   False         False     False\n",
              "\n",
              "[100 rows x 7 columns]"
            ]
          },
          "execution_count": 22,
          "metadata": {},
          "output_type": "execute_result"
        }
      ],
      "source": [
        "#1\n",
        "#Identify columns with missing values. \n",
        "df.isnull()"
      ]
    },
    {
      "cell_type": "code",
      "execution_count": 23,
      "id": "fd9177e2-71ce-43b9-ac28-f24a9249962f",
      "metadata": {
        "trusted": true
      },
      "outputs": [
        {
          "name": "stdout",
          "output_type": "stream",
          "text": [
            "    Employee_ID               Name   Age Department   Salary Joining_Date  \\\n",
            "0          1001        Steven Dunn  30.0         IT  46846.0   09/06/2024   \n",
            "1          1002    Jennifer Romero  54.0         IT  43585.0   07/02/2018   \n",
            "2          1003         Dana Haney  59.0    Finance      NaN   11/01/2019   \n",
            "3          1004       Louis Powers  60.0    Finance  58094.0   26/09/2019   \n",
            "4          1005   Jennifer Gilmore  54.0  Marketing  80848.0   09/02/2020   \n",
            "..          ...                ...   ...        ...      ...          ...   \n",
            "95         1096        John Walton  28.0         IT  52401.0   13/08/2017   \n",
            "96         1097  Matthew Alexander  25.0         IT  61221.0   18/11/2018   \n",
            "97         1098         Kelly Cole  25.0         HR  69045.0   14/07/2018   \n",
            "98         1099     Melissa Harper  52.0         IT  61606.0   20/10/2022   \n",
            "99         1100      Paul Price MD  45.5  Marketing  42862.0   27/12/2017   \n",
            "\n",
            "    Resigned  \n",
            "0      False  \n",
            "1      False  \n",
            "2      False  \n",
            "3      False  \n",
            "4      False  \n",
            "..       ...  \n",
            "95      True  \n",
            "96     False  \n",
            "97     False  \n",
            "98      True  \n",
            "99     False  \n",
            "\n",
            "[100 rows x 7 columns]\n"
          ]
        }
      ],
      "source": [
        "#Fill missing values in the Age column with the median age.\n",
        "median_age= df['Age'].median()\n",
        "df.fillna({'Age' : median_age}, inplace=True)\n",
        "print(df)"
      ]
    },
    {
      "cell_type": "code",
      "execution_count": 24,
      "id": "19557126-1b8a-4356-ba7e-47e342fe1d31",
      "metadata": {
        "trusted": true
      },
      "outputs": [
        {
          "name": "stdout",
          "output_type": "stream",
          "text": [
            "    Employee_ID               Name   Age Department        Salary  \\\n",
            "0          1001        Steven Dunn  30.0         IT  46846.000000   \n",
            "1          1002    Jennifer Romero  54.0         IT  43585.000000   \n",
            "2          1003         Dana Haney  59.0    Finance  59643.923913   \n",
            "3          1004       Louis Powers  60.0    Finance  58094.000000   \n",
            "4          1005   Jennifer Gilmore  54.0  Marketing  80848.000000   \n",
            "..          ...                ...   ...        ...           ...   \n",
            "95         1096        John Walton  28.0         IT  52401.000000   \n",
            "96         1097  Matthew Alexander  25.0         IT  61221.000000   \n",
            "97         1098         Kelly Cole  25.0         HR  69045.000000   \n",
            "98         1099     Melissa Harper  52.0         IT  61606.000000   \n",
            "99         1100      Paul Price MD  45.5  Marketing  42862.000000   \n",
            "\n",
            "   Joining_Date  Resigned  \n",
            "0    09/06/2024     False  \n",
            "1    07/02/2018     False  \n",
            "2    11/01/2019     False  \n",
            "3    26/09/2019     False  \n",
            "4    09/02/2020     False  \n",
            "..          ...       ...  \n",
            "95   13/08/2017      True  \n",
            "96   18/11/2018     False  \n",
            "97   14/07/2018     False  \n",
            "98   20/10/2022      True  \n",
            "99   27/12/2017     False  \n",
            "\n",
            "[100 rows x 7 columns]\n"
          ]
        }
      ],
      "source": [
        "#Fill missing values in the Salary column with the mean salary. \n",
        "mean_salary= df['Salary'].mean()\n",
        "df.fillna({'Salary': mean_salary}, inplace=True)\n",
        "print(df)"
      ]
    },
    {
      "cell_type": "code",
      "execution_count": 25,
      "id": "44bf93f4-4945-4440-aba7-ad7ef5884a60",
      "metadata": {
        "trusted": true
      },
      "outputs": [
        {
          "name": "stdout",
          "output_type": "stream",
          "text": [
            "None\n"
          ]
        }
      ],
      "source": [
        "#2\n",
        "#Check for duplicate rows and remove them if any exist. \n",
        "a= df.drop_duplicates(inplace=True)\n",
        "print(a)"
      ]
    },
    {
      "cell_type": "code",
      "execution_count": 26,
      "id": "9df5d4b9-fd49-4f7a-b849-93180d0920fb",
      "metadata": {
        "trusted": true
      },
      "outputs": [
        {
          "name": "stdout",
          "output_type": "stream",
          "text": [
            "Index(['employee_id', 'name', 'age', 'department', 'salary', 'joining_date',\n",
            "       'resigned'],\n",
            "      dtype='object')\n"
          ]
        }
      ],
      "source": [
        "#3\n",
        "#Convert all column names to lowercase for consistency. \n",
        "low= df.columns.str.lower()\n",
        "print(low)"
      ]
    },
    {
      "cell_type": "code",
      "execution_count": 27,
      "id": "e89fa67b-5e82-44ab-8ae9-d70e1b72a600",
      "metadata": {
        "trusted": true
      },
      "outputs": [
        {
          "name": "stdout",
          "output_type": "stream",
          "text": [
            "Employee_ID              Int64\n",
            "Name            string[python]\n",
            "Age                    Float64\n",
            "Department      string[python]\n",
            "Salary                 Float64\n",
            "Joining_Date    string[python]\n",
            "Resigned               boolean\n",
            "dtype: object\n"
          ]
        }
      ],
      "source": [
        "#4\n",
        "#Convert all the column’s data type to the most relevant data type. \n",
        "print(df.convert_dtypes().dtypes)"
      ]
    },
    {
      "cell_type": "markdown",
      "id": "e5d34230-389e-4f46-8d98-c40a118c91ee",
      "metadata": {},
      "source": [
        "# TASK3: Data Manipulation "
      ]
    },
    {
      "cell_type": "code",
      "execution_count": 28,
      "id": "d3c47402-0020-4b32-9cdb-17960a047ffc",
      "metadata": {
        "trusted": true
      },
      "outputs": [
        {
          "name": "stdout",
          "output_type": "stream",
          "text": [
            "    Employee_ID               Name   Age Department        Salary  \\\n",
            "0          1001        Steven Dunn  30.0         IT  46846.000000   \n",
            "1          1002    Jennifer Romero  54.0         IT  43585.000000   \n",
            "2          1003         Dana Haney  59.0    Finance  59643.923913   \n",
            "3          1004       Louis Powers  60.0    Finance  58094.000000   \n",
            "4          1005   Jennifer Gilmore  54.0  Marketing  80848.000000   \n",
            "..          ...                ...   ...        ...           ...   \n",
            "95         1096        John Walton  28.0         IT  52401.000000   \n",
            "96         1097  Matthew Alexander  25.0         IT  61221.000000   \n",
            "97         1098         Kelly Cole  25.0         HR  69045.000000   \n",
            "98         1099     Melissa Harper  52.0         IT  61606.000000   \n",
            "99         1100      Paul Price MD  45.5  Marketing  42862.000000   \n",
            "\n",
            "   Joining_Date  Resigned  \n",
            "0    09/06/2024     False  \n",
            "1    07/02/2018     False  \n",
            "2    11/01/2019     False  \n",
            "3    26/09/2019     False  \n",
            "4    09/02/2020     False  \n",
            "..          ...       ...  \n",
            "95   13/08/2017      True  \n",
            "96   18/11/2018     False  \n",
            "97   14/07/2018     False  \n",
            "98   20/10/2022      True  \n",
            "99   27/12/2017     False  \n",
            "\n",
            "[100 rows x 7 columns]\n"
          ]
        }
      ],
      "source": [
        "#1\n",
        "#Filter out employees who are above the age of 25 or have a salary above 40,000, and are not resigned.\n",
        "filter = df[(df['Age'] > 25) | (df['Salary'] > 40000) | (df['Resigned'] == False)]\n",
        "print(filter)"
      ]
    },
    {
      "cell_type": "code",
      "execution_count": 29,
      "id": "24c508fc-f858-41f4-87c0-cb8259d7a249",
      "metadata": {
        "trusted": true
      },
      "outputs": [
        {
          "name": "stdout",
          "output_type": "stream",
          "text": [
            "0     0\n",
            "1     6\n",
            "2     6\n",
            "3     5\n",
            "4     4\n",
            "     ..\n",
            "95    7\n",
            "96    6\n",
            "97    6\n",
            "98    2\n",
            "99    7\n",
            "Name: years_in_company, Length: 100, dtype: int64\n"
          ]
        }
      ],
      "source": [
        "#2\n",
        "#Create a new column YearsInCompany by calculating the number of years each employee has worked in the company (from JoiningDate to today). \n",
        "from datetime import datetime\n",
        "# Convert the 'joining_date' column to datetime format with the correct date format\n",
        "df['Joining_Date'] = pd.to_datetime(df['Joining_Date'], format='%d/%m/%Y', errors='coerce')\n",
        "\n",
        "# Calculate the number of years each employee has worked in the company\n",
        "df['years_in_company'] = (datetime.now() - df['Joining_Date']).dt.days // 365\n",
        "\n",
        "print(df['years_in_company'])"
      ]
    },
    {
      "cell_type": "code",
      "execution_count": 30,
      "id": "74bd4147-320d-47e3-ae9f-4ba4dc285d73",
      "metadata": {
        "trusted": true
      },
      "outputs": [
        {
          "name": "stdout",
          "output_type": "stream",
          "text": [
            "  Department        Salary   Age\n",
            "0    Finance  58612.570938  45.5\n",
            "1         HR  60466.443028  45.0\n",
            "2         IT  57740.778872  46.5\n",
            "3  Marketing  62476.088587  45.5\n"
          ]
        }
      ],
      "source": [
        "#3\n",
        "#Group employees by Department and calculate the average Salary and median Age for each department. \n",
        "grouping= df.groupby('Department').agg({'Salary': 'mean', 'Age': 'median'}).reset_index()\n",
        "print(grouping)\n"
      ]
    },
    {
      "cell_type": "code",
      "execution_count": 31,
      "id": "b9474923-24df-4b2f-ac4e-4ac308ff688e",
      "metadata": {
        "trusted": true
      },
      "outputs": [
        {
          "name": "stdout",
          "output_type": "stream",
          "text": [
            "0     51530.600000\n",
            "1     47943.500000\n",
            "2     59643.923913\n",
            "3     58094.000000\n",
            "4     80848.000000\n",
            "          ...     \n",
            "95    57641.100000\n",
            "96    67343.100000\n",
            "97    69045.000000\n",
            "98    67766.600000\n",
            "99    42862.000000\n",
            "Name: Salary, Length: 100, dtype: float64\n"
          ]
        }
      ],
      "source": [
        "#4\n",
        "#ncrease the Salary of all employees in the IT department by 10%. \n",
        "df.loc[df['Department'] == 'IT', 'Salary'] *= 1.10\n",
        "print(df['Salary'])"
      ]
    },
    {
      "cell_type": "markdown",
      "id": "341c291b-f450-4708-8fba-2cfa49bdf524",
      "metadata": {},
      "source": [
        "# TASK4: Data  Transformation "
      ]
    },
    {
      "cell_type": "code",
      "execution_count": 32,
      "id": "c9ac6e69-0032-4ec5-a087-dd9afda24b17",
      "metadata": {
        "trusted": true
      },
      "outputs": [
        {
          "name": "stdout",
          "output_type": "stream",
          "text": [
            "    Employee_ID               Name   Age Department        Salary  \\\n",
            "0          1001        Steven Dunn  30.0         IT  51530.600000   \n",
            "1          1002    Jennifer Romero  54.0         IT  47943.500000   \n",
            "2          1003         Dana Haney  59.0    Finance  59643.923913   \n",
            "3          1004       Louis Powers  60.0    Finance  58094.000000   \n",
            "4          1005   Jennifer Gilmore  54.0  Marketing  80848.000000   \n",
            "..          ...                ...   ...        ...           ...   \n",
            "95         1096        John Walton  28.0         IT  57641.100000   \n",
            "96         1097  Matthew Alexander  25.0         IT  67343.100000   \n",
            "97         1098         Kelly Cole  25.0         HR  69045.000000   \n",
            "98         1099     Melissa Harper  52.0         IT  67766.600000   \n",
            "99         1100      Paul Price MD  45.5  Marketing  42862.000000   \n",
            "\n",
            "   Joining_Date  is_resigned  years_in_company  \n",
            "0    2024-06-09        False                 0  \n",
            "1    2018-02-07        False                 6  \n",
            "2    2019-01-11        False                 6  \n",
            "3    2019-09-26        False                 5  \n",
            "4    2020-02-09        False                 4  \n",
            "..          ...          ...               ...  \n",
            "95   2017-08-13         True                 7  \n",
            "96   2018-11-18        False                 6  \n",
            "97   2018-07-14        False                 6  \n",
            "98   2022-10-20         True                 2  \n",
            "99   2017-12-27        False                 7  \n",
            "\n",
            "[100 rows x 8 columns]\n"
          ]
        }
      ],
      "source": [
        "#1\n",
        "#Rename the resigned column to is_resigned. \n",
        "df.rename(columns = {'Resigned' : 'is_resigned'}, inplace = True)\n",
        "print(df)"
      ]
    },
    {
      "cell_type": "code",
      "execution_count": 33,
      "id": "a6db0d00-fa8a-4446-b29d-d676911c0065",
      "metadata": {
        "trusted": true
      },
      "outputs": [
        {
          "name": "stdout",
          "output_type": "stream",
          "text": [
            "    Employee_ID               Name   Age Department        Salary  \\\n",
            "0          1001        Steven Dunn  30.0         IT  51530.600000   \n",
            "1          1002    Jennifer Romero  54.0         IT  47943.500000   \n",
            "2          1003         Dana Haney  59.0    Finance  59643.923913   \n",
            "3          1004       Louis Powers  60.0    Finance  58094.000000   \n",
            "4          1005   Jennifer Gilmore  54.0  Marketing  80848.000000   \n",
            "..          ...                ...   ...        ...           ...   \n",
            "95         1096        John Walton  28.0         IT  57641.100000   \n",
            "96         1097  Matthew Alexander  25.0         IT  67343.100000   \n",
            "97         1098         Kelly Cole  25.0         HR  69045.000000   \n",
            "98         1099     Melissa Harper  52.0         IT  67766.600000   \n",
            "99         1100      Paul Price MD  45.5  Marketing  42862.000000   \n",
            "\n",
            "    years_in_company  \n",
            "0                  0  \n",
            "1                  6  \n",
            "2                  6  \n",
            "3                  5  \n",
            "4                  4  \n",
            "..               ...  \n",
            "95                 7  \n",
            "96                 6  \n",
            "97                 6  \n",
            "98                 2  \n",
            "99                 7  \n",
            "\n",
            "[100 rows x 6 columns]\n"
          ]
        }
      ],
      "source": [
        "#2\n",
        "#Save only the following columns to a new DataFrame: Employee_ID, Name, Age, Department, Salary, and YearsInCompany.\n",
        "new_df = df[['Employee_ID', 'Name', 'Age', 'Department', 'Salary', 'years_in_company']]\n",
        "print(new_df)"
      ]
    },
    {
      "cell_type": "code",
      "execution_count": 34,
      "id": "7b24444d-337d-47cc-891c-b80fca24364e",
      "metadata": {
        "trusted": true
      },
      "outputs": [
        {
          "name": "stdout",
          "output_type": "stream",
          "text": [
            "    Employee_ID                Name   Age Department   Salary Joining_Date  \\\n",
            "72         1073    Stephanie Hanson  45.5         IT  94227.1   2024-11-25   \n",
            "59         1060     Holly Rodriguez  41.0         HR  85452.0   2024-10-09   \n",
            "33         1034         April Yoder  55.0    Finance  53113.0   2024-07-20   \n",
            "28         1029       Lauren Santos  50.0         HR  41990.0   2024-06-20   \n",
            "0          1001         Steven Dunn  30.0         IT  51530.6   2024-06-09   \n",
            "..          ...                 ...   ...        ...      ...          ...   \n",
            "6          1007        Thomas Lopez  39.0         HR  66678.0   2015-05-24   \n",
            "17         1018        Bryan Golden  30.0    Finance  78126.0   2015-05-07   \n",
            "19         1020      Robert Jackson  30.0  Marketing  48234.0   2015-03-14   \n",
            "8          1009          Lori Short  56.0         IT  64432.5   2015-02-28   \n",
            "63         1064  Elizabeth Thompson  56.0    Finance  72278.0   2015-01-28   \n",
            "\n",
            "    is_resigned  years_in_company  \n",
            "72         True                 0  \n",
            "59        False                 0  \n",
            "33        False                 0  \n",
            "28         True                 0  \n",
            "0         False                 0  \n",
            "..          ...               ...  \n",
            "6         False                 9  \n",
            "17        False                 9  \n",
            "19         True                 9  \n",
            "8          True                 9  \n",
            "63         True                 9  \n",
            "\n",
            "[100 rows x 8 columns]\n"
          ]
        }
      ],
      "source": [
        "#3\n",
        "#Sort the data by JoiningDate in descending order. \n",
        "sorting= df.sort_values(by='Joining_Date', ascending= False)\n",
        "print(sorting)"
      ]
    },
    {
      "cell_type": "code",
      "execution_count": 35,
      "id": "4c77383d-e482-4d63-a630-9098fd10efc3",
      "metadata": {
        "trusted": true
      },
      "outputs": [],
      "source": [
        "# cleaned_employees.json in JSON format\n",
        "df.to_json('cleaned_employees.json', orient='records', lines=True)"
      ]
    },
    {
      "cell_type": "code",
      "execution_count": null,
      "id": "2e9d4f83-87fe-44da-b938-7a179cebf30f",
      "metadata": {
        "trusted": true
      },
      "outputs": [],
      "source": []
    }
  ],
  "metadata": {
    "kernelspec": {
      "display_name": "Python 3",
      "language": "python",
      "name": "python3"
    },
    "language_info": {
      "codemirror_mode": {
        "name": "ipython",
        "version": 3
      },
      "file_extension": ".py",
      "mimetype": "text/x-python",
      "name": "python",
      "nbconvert_exporter": "python",
      "pygments_lexer": "ipython3",
      "version": "3.13.1"
    }
  },
  "nbformat": 4,
  "nbformat_minor": 5
}
